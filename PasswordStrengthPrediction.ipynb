{
  "cells": [
    {
      "cell_type": "markdown",
      "metadata": {
        "id": "view-in-github",
        "colab_type": "text"
      },
      "source": [
        "<a href=\"https://colab.research.google.com/github/udayan35/Password-strength-classifier-from-text/blob/main/PasswordStrengthPrediction.ipynb\" target=\"_parent\"><img src=\"https://colab.research.google.com/assets/colab-badge.svg\" alt=\"Open In Colab\"/></a>"
      ]
    },
    {
      "cell_type": "code",
      "execution_count": 3,
      "metadata": {
        "id": "T6TOMndyD5y1"
      },
      "outputs": [],
      "source": [
        "import pandas as pd\n",
        "import numpy as np\n",
        "from sklearn.model_selection import train_test_split\n",
        "from sklearn.ensemble import RandomForestClassifier\n",
        "from sklearn.feature_extraction.text import TfidfVectorizer\n",
        "from sklearn.metrics import accuracy_score"
      ]
    },
    {
      "cell_type": "code",
      "source": [
        "# Load the dataset\n",
        "df = pd.read_csv('final.csv', index_col=0,on_bad_lines='skip')\n",
        "print(df.shape)\n",
        "df = df.dropna(subset=['password'])\n",
        "df = df.dropna(subset=['Strength'])\n",
        "#df['Strength'] = df['Strength'].astype(int)\n",
        "print(df.shape)\n"
      ],
      "metadata": {
        "id": "qlguESsvaNzx",
        "colab": {
          "base_uri": "https://localhost:8080/"
        },
        "outputId": "71c606d9-5cf6-44d0-a3e6-43c40a9a7977"
      },
      "execution_count": 4,
      "outputs": [
        {
          "output_type": "stream",
          "name": "stdout",
          "text": [
            "(217988, 6)\n",
            "(217987, 6)\n"
          ]
        }
      ]
    },
    {
      "cell_type": "code",
      "source": [
        "# Map string labels to numeric labels\n",
        "df.loc[df['Strength'] == 'very easy', 'Strength'] = 0\n",
        "df.loc[df['Strength'] == 'easy', 'Strength'] = 1\n",
        "df.loc[df['Strength'] == 'medium', 'Strength'] = 2\n",
        "df.loc[df['Strength'] == 'hard', 'Strength'] = 3\n",
        "\n",
        "# Split features and target\n",
        "X = df['password']\n",
        "Y = df['Strength'].astype('int')  # ensure it's int"
      ],
      "metadata": {
        "id": "AvbXnktraY3x"
      },
      "execution_count": 5,
      "outputs": []
    },
    {
      "cell_type": "code",
      "source": [
        "# Correct order: train, test = train_test_split\n",
        "trainX, testX, trainY, testY = train_test_split(X, Y, test_size=0.2, random_state=3)"
      ],
      "metadata": {
        "id": "lJtLDYx1adKJ"
      },
      "execution_count": 6,
      "outputs": []
    },
    {
      "cell_type": "code",
      "source": [
        "feature_extraction = TfidfVectorizer(analyzer='char', ngram_range=(1, 3))\n",
        "trainX_featured = feature_extraction.fit_transform(trainX)\n",
        "testX_featured = feature_extraction.transform(testX)\n",
        "\n",
        "# Train the Random Forest model\n",
        "model = RandomForestClassifier(n_estimators=100, random_state=42)\n",
        "model.fit(trainX_featured, trainY)\n",
        "\n",
        "# Prediction on training data\n",
        "prediction_training_data = model.predict(trainX_featured)\n",
        "accuracyOnTraining = accuracy_score(trainY, prediction_training_data)\n",
        "print(\"Accuracy on training data:\", accuracyOnTraining)\n",
        "\n",
        "# Prediction on testing data\n",
        "prediction_testing_data = model.predict(testX_featured)\n",
        "accuracyOnTesting = accuracy_score(testY, prediction_testing_data)\n",
        "print(\"Accuracy on testing data:\", accuracyOnTesting)\n"
      ],
      "metadata": {
        "id": "TsI5JLPDkufJ",
        "colab": {
          "base_uri": "https://localhost:8080/"
        },
        "outputId": "6d3c80b4-177d-41b8-9583-6e10308a0f6e"
      },
      "execution_count": 7,
      "outputs": [
        {
          "output_type": "stream",
          "name": "stdout",
          "text": [
            "Accuracy on training data: 0.9976317313592027\n",
            "Accuracy on testing data: 0.9688288453598789\n"
          ]
        }
      ]
    },
    {
      "cell_type": "code",
      "source": [
        "from sklearn.metrics import confusion_matrix\n",
        "import seaborn as sns\n",
        "import matplotlib.pyplot as plt\n",
        "\n",
        "cm = confusion_matrix(testY, prediction_testing_data)\n",
        "sns.heatmap(cm, annot=True, fmt='d', cmap='Blues')\n",
        "plt.xlabel('Predicted')\n",
        "plt.ylabel('Actual')\n",
        "plt.show()\n"
      ],
      "metadata": {
        "id": "C3o7Ee8clOmk",
        "colab": {
          "base_uri": "https://localhost:8080/",
          "height": 449
        },
        "outputId": "64c58c17-9b75-4373-d81e-8a855cb6246d"
      },
      "execution_count": 8,
      "outputs": [
        {
          "output_type": "display_data",
          "data": {
            "text/plain": [
              "<Figure size 640x480 with 2 Axes>"
            ],
            "image/png": "[encoded data removed]"
          },
          "metadata": {}
        }
      ]
    },
    {
      "cell_type": "code",
      "source": [],
      "metadata": {
        "id": "RveUxmrzlR6f"
      },
      "execution_count": 8,
      "outputs": []
    }
  ],
  "metadata": {
    "colab": {
      "provenance": [],
      "authorship_tag": "ABX9TyPY46ALgFxUbYbEMTFbkCW6",
      "include_colab_link": true
    },
    "kernelspec": {
      "display_name": "Python 3",
      "name": "python3"
    },
    "language_info": {
      "name": "python"
    }
  },
  "nbformat": 4,
  "nbformat_minor": 0
}